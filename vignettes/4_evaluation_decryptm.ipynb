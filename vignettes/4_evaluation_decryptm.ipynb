{
 "cells": [
  {
   "cell_type": "markdown",
   "metadata": {},
   "source": [
    "# Vignette 4: Sensitive response to drug perturbation using phosphoproteomics"
   ]
  },
  {
   "cell_type": "markdown",
   "metadata": {},
   "source": [
    "The aim of this vignette is to explore a new way of evaluating the networks. In this setting, we assume that the networks that better contextualise the perturbation will have a higher average pEC50 in the nodes included in the solution network, compared to the ones not included. On the contrary, the networks which are not able to contextualise the perturbation will not show differences in the EC50 values of the nodes included or excluded. For more information about this evaluation strategy, please check the dedicated [section](../benchmarks.html#phosphorylation-sensitivity-to-drug-perturbation)."
   ]
  },
  {
   "cell_type": "code",
   "execution_count": 1,
   "metadata": {},
   "outputs": [],
   "source": [
    "import networkcommons as nc\n",
    "import pandas as pd\n",
    "import decoupler as dc"
   ]
  },
  {
   "cell_type": "markdown",
   "metadata": {},
   "source": [
    "## 1. Data processing"
   ]
  },
  {
   "cell_type": "markdown",
   "metadata": {},
   "source": [
    "To showcase this strategy, we will use data from the [DecryptM](../datasets.html#decryptm) resource, a compendium of 14 different experiments comprising 4 different proteomics profiles and 31 different drugs. This dataset contains 10 different concentration points, which were used to fit logistic curves to obtain sensitivity values (pEC50, which is -log(EC50), higher sensitivity results in a higher pEC50 or a lower EC50). EC50 is the concentration at which the response is halfway between the baseline activity and the maximum activity. \n",
    "\n",
    "> Jana Zecha et al., Decrypting drug actions and protein modifications by dose- and time-resolved proteomics. *Science 380,93-101(2023)*. https://doi.org/10.1126/science.ade3925\n",
    "\n",
    "To see in a nutshell the available experiments from the resource, we can use `nc.data.omics.decryptm_datasets`\n"
   ]
  },
  {
   "cell_type": "markdown",
   "metadata": {},
   "source": [
    "<div class=\"alert alert-info\">\n",
    "\n",
    "**Note**\n",
    "    \n",
    "Here, we assume that the averaging of phosphosite-level information is a good approximation for changes at the protein level. However, this is not necessarily true. For example, in case of proteins with multiple phosphorylation sites, some of them can result in the protein becoming more active, while others can make it become less active. In addition, some proteins become active/inactive only when a minimum of n phosphorylation sites have been phosphorylated. All these examples are ingnored in this setting, and thus should be taken into account when interpreting the results.\n",
    "\n",
    "</div> "
   ]
  },
  {
   "cell_type": "markdown",
   "metadata": {},
   "source": [
    "For the sake of simplicity, we will focus on one drug targeting EGFR. We get the 3 EGFR inhibitors:"
   ]
  },
  {
   "cell_type": "code",
   "execution_count": 2,
   "metadata": {},
   "outputs": [],
   "source": [
    "decryptm_curves = nc.data.omics.decryptm_table('3_EGFR_Inhibitors', 'Phosphoproteome', 'curves.txt')"
   ]
  },
  {
   "cell_type": "markdown",
   "metadata": {},
   "source": [
    "We first filter those fittings with a high R2. We define here an arbitrary threshold of 0.9"
   ]
  },
  {
   "cell_type": "code",
   "execution_count": 3,
   "metadata": {},
   "outputs": [],
   "source": [
    "filtered_df = decryptm_curves[decryptm_curves['R2']>0.9]"
   ]
  },
  {
   "cell_type": "markdown",
   "metadata": {},
   "source": [
    "Now, we can extract the information from each sample by splitting the Experiment column:"
   ]
  },
  {
   "cell_type": "code",
   "execution_count": null,
   "metadata": {},
   "outputs": [],
   "source": [
    "filtered_df[['PTM', 'Cell_line', 'Drug', 'Time', 'Rep']] = filtered_df['Experiment'].str.split('_', expand=True)"
   ]
  },
  {
   "cell_type": "markdown",
   "metadata": {},
   "source": [
    "We can see which drug has the most fitted curves, which will be the one we will choose for this analysis. "
   ]
  },
  {
   "cell_type": "code",
   "execution_count": 5,
   "metadata": {},
   "outputs": [
    {
     "data": {
      "text/plain": [
       "Drug\n",
       "Afatinib     4054\n",
       "Gefitinib    1515\n",
       "Dasatinib    1368\n",
       "Name: count, dtype: int64"
      ]
     },
     "execution_count": 5,
     "metadata": {},
     "output_type": "execute_result"
    }
   ],
   "source": [
    "filtered_df['Drug'].value_counts()"
   ]
  },
  {
   "cell_type": "markdown",
   "metadata": {},
   "source": [
    "With 4054 fitted curves, we can continue the analysis focusing in Afatinib."
   ]
  },
  {
   "cell_type": "code",
   "execution_count": 6,
   "metadata": {},
   "outputs": [],
   "source": [
    "filtered_df = filtered_df[filtered_df['Drug'] == 'Afatinib']"
   ]
  },
  {
   "cell_type": "markdown",
   "metadata": {},
   "source": [
    "We binarise the Regulation column:"
   ]
  },
  {
   "cell_type": "code",
   "execution_count": 7,
   "metadata": {},
   "outputs": [],
   "source": [
    "filtered_df['Regulation'] = filtered_df['Regulation'].map({'up': 1, 'down': -1}).fillna(0)"
   ]
  },
  {
   "cell_type": "markdown",
   "metadata": {},
   "source": [
    "Now, since our prior knowledge network is detailed to the protein level, we need to summarise our phosphosite-specific information. For this, we can just calculate the average across phosphosites and replicates, per protein."
   ]
  },
  {
   "cell_type": "code",
   "execution_count": 8,
   "metadata": {},
   "outputs": [],
   "source": [
    "numeric_cols = filtered_df.select_dtypes(include=[float, int]).columns\n",
    "grouped_df = filtered_df.groupby(['PTM', 'Cell_line', 'Drug', 'Time', 'Gene names'])[numeric_cols].mean()\n",
    "grouped_df.reset_index(inplace=True)"
   ]
  },
  {
   "cell_type": "markdown",
   "metadata": {},
   "source": [
    "We discard those proteins which showed no response:"
   ]
  },
  {
   "cell_type": "code",
   "execution_count": 9,
   "metadata": {},
   "outputs": [],
   "source": [
    "grouped_df = grouped_df[grouped_df['Regulation'] != 0]"
   ]
  },
  {
   "cell_type": "markdown",
   "metadata": {},
   "source": [
    "Now, we split our dataset in two. On one side, we will use the transcription factors (TFs) for the measurement layer (upregulated or downregulated). The rest of measurements which are not TFs will be used for the evaluation."
   ]
  },
  {
   "cell_type": "code",
   "execution_count": 10,
   "metadata": {},
   "outputs": [],
   "source": [
    "collectri = dc.get_collectri()\n",
    "collectri_tfs = set(collectri.source)"
   ]
  },
  {
   "cell_type": "code",
   "execution_count": 11,
   "metadata": {},
   "outputs": [
    {
     "data": {
      "text/html": [
       "<div>\n",
       "<style scoped>\n",
       "    .dataframe tbody tr th:only-of-type {\n",
       "        vertical-align: middle;\n",
       "    }\n",
       "\n",
       "    .dataframe tbody tr th {\n",
       "        vertical-align: top;\n",
       "    }\n",
       "\n",
       "    .dataframe thead th {\n",
       "        text-align: right;\n",
       "    }\n",
       "</style>\n",
       "<table border=\"1\" class=\"dataframe\">\n",
       "  <thead>\n",
       "    <tr style=\"text-align: right;\">\n",
       "      <th></th>\n",
       "      <th>PTM</th>\n",
       "      <th>Cell_line</th>\n",
       "      <th>Drug</th>\n",
       "      <th>Time</th>\n",
       "      <th>Gene names</th>\n",
       "      <th>N duplicates</th>\n",
       "      <th>Length</th>\n",
       "      <th>Missed cleavages</th>\n",
       "      <th>Phospho (STY)</th>\n",
       "      <th>Max Score</th>\n",
       "      <th>...</th>\n",
       "      <th>R2</th>\n",
       "      <th>Curve RMSE</th>\n",
       "      <th>Log EC50 error</th>\n",
       "      <th>Curve slope error</th>\n",
       "      <th>Curve top error</th>\n",
       "      <th>Curve bottom error</th>\n",
       "      <th>EC50</th>\n",
       "      <th>pEC50</th>\n",
       "      <th>Curve effect size</th>\n",
       "      <th>Regulation</th>\n",
       "    </tr>\n",
       "  </thead>\n",
       "  <tbody>\n",
       "    <tr>\n",
       "      <th>37</th>\n",
       "      <td>ddPTM</td>\n",
       "      <td>A431</td>\n",
       "      <td>Afatinib</td>\n",
       "      <td>30min</td>\n",
       "      <td>AKNA</td>\n",
       "      <td>1.00</td>\n",
       "      <td>8.000000</td>\n",
       "      <td>0.000000</td>\n",
       "      <td>1.000000</td>\n",
       "      <td>97.565000</td>\n",
       "      <td>...</td>\n",
       "      <td>0.930210</td>\n",
       "      <td>0.079855</td>\n",
       "      <td>0.078054</td>\n",
       "      <td>0.326630</td>\n",
       "      <td>0.022948</td>\n",
       "      <td>0.021961</td>\n",
       "      <td>1.081113e-08</td>\n",
       "      <td>7.966129</td>\n",
       "      <td>-0.633375</td>\n",
       "      <td>-1.000000</td>\n",
       "    </tr>\n",
       "    <tr>\n",
       "      <th>77</th>\n",
       "      <td>ddPTM</td>\n",
       "      <td>A431</td>\n",
       "      <td>Afatinib</td>\n",
       "      <td>30min</td>\n",
       "      <td>ARHGAP35</td>\n",
       "      <td>1.25</td>\n",
       "      <td>15.416667</td>\n",
       "      <td>0.583333</td>\n",
       "      <td>1.166667</td>\n",
       "      <td>219.326917</td>\n",
       "      <td>...</td>\n",
       "      <td>0.951323</td>\n",
       "      <td>0.063784</td>\n",
       "      <td>0.113077</td>\n",
       "      <td>1.232567</td>\n",
       "      <td>0.022569</td>\n",
       "      <td>0.030057</td>\n",
       "      <td>1.907749e-07</td>\n",
       "      <td>7.873396</td>\n",
       "      <td>-0.673425</td>\n",
       "      <td>-0.833333</td>\n",
       "    </tr>\n",
       "    <tr>\n",
       "      <th>106</th>\n",
       "      <td>ddPTM</td>\n",
       "      <td>A431</td>\n",
       "      <td>Afatinib</td>\n",
       "      <td>30min</td>\n",
       "      <td>ATF7</td>\n",
       "      <td>1.20</td>\n",
       "      <td>15.400000</td>\n",
       "      <td>0.400000</td>\n",
       "      <td>1.600000</td>\n",
       "      <td>231.716000</td>\n",
       "      <td>...</td>\n",
       "      <td>0.939197</td>\n",
       "      <td>0.046872</td>\n",
       "      <td>2.402108</td>\n",
       "      <td>0.517590</td>\n",
       "      <td>0.020224</td>\n",
       "      <td>2.005207</td>\n",
       "      <td>2.000098e-03</td>\n",
       "      <td>6.252465</td>\n",
       "      <td>0.540893</td>\n",
       "      <td>-0.200000</td>\n",
       "    </tr>\n",
       "    <tr>\n",
       "      <th>113</th>\n",
       "      <td>ddPTM</td>\n",
       "      <td>A431</td>\n",
       "      <td>Afatinib</td>\n",
       "      <td>30min</td>\n",
       "      <td>ATRX</td>\n",
       "      <td>1.00</td>\n",
       "      <td>12.125000</td>\n",
       "      <td>1.000000</td>\n",
       "      <td>1.250000</td>\n",
       "      <td>205.422625</td>\n",
       "      <td>...</td>\n",
       "      <td>0.925583</td>\n",
       "      <td>0.059691</td>\n",
       "      <td>0.129673</td>\n",
       "      <td>0.607281</td>\n",
       "      <td>0.020850</td>\n",
       "      <td>0.023965</td>\n",
       "      <td>1.983393e-08</td>\n",
       "      <td>8.059884</td>\n",
       "      <td>-0.060007</td>\n",
       "      <td>-0.125000</td>\n",
       "    </tr>\n",
       "    <tr>\n",
       "      <th>128</th>\n",
       "      <td>ddPTM</td>\n",
       "      <td>A431</td>\n",
       "      <td>Afatinib</td>\n",
       "      <td>30min</td>\n",
       "      <td>BCL3</td>\n",
       "      <td>1.10</td>\n",
       "      <td>16.000000</td>\n",
       "      <td>1.000000</td>\n",
       "      <td>1.400000</td>\n",
       "      <td>131.791200</td>\n",
       "      <td>...</td>\n",
       "      <td>0.945352</td>\n",
       "      <td>0.093729</td>\n",
       "      <td>0.093656</td>\n",
       "      <td>0.186224</td>\n",
       "      <td>0.040301</td>\n",
       "      <td>0.036615</td>\n",
       "      <td>7.787948e-09</td>\n",
       "      <td>8.132247</td>\n",
       "      <td>-0.125451</td>\n",
       "      <td>-0.400000</td>\n",
       "    </tr>\n",
       "  </tbody>\n",
       "</table>\n",
       "<p>5 rows × 60 columns</p>\n",
       "</div>"
      ],
      "text/plain": [
       "       PTM Cell_line      Drug   Time Gene names  N duplicates     Length  \\\n",
       "37   ddPTM      A431  Afatinib  30min       AKNA          1.00   8.000000   \n",
       "77   ddPTM      A431  Afatinib  30min   ARHGAP35          1.25  15.416667   \n",
       "106  ddPTM      A431  Afatinib  30min       ATF7          1.20  15.400000   \n",
       "113  ddPTM      A431  Afatinib  30min       ATRX          1.00  12.125000   \n",
       "128  ddPTM      A431  Afatinib  30min       BCL3          1.10  16.000000   \n",
       "\n",
       "     Missed cleavages  Phospho (STY)   Max Score  ...        R2  Curve RMSE  \\\n",
       "37           0.000000       1.000000   97.565000  ...  0.930210    0.079855   \n",
       "77           0.583333       1.166667  219.326917  ...  0.951323    0.063784   \n",
       "106          0.400000       1.600000  231.716000  ...  0.939197    0.046872   \n",
       "113          1.000000       1.250000  205.422625  ...  0.925583    0.059691   \n",
       "128          1.000000       1.400000  131.791200  ...  0.945352    0.093729   \n",
       "\n",
       "     Log EC50 error  Curve slope error  Curve top error  Curve bottom error  \\\n",
       "37         0.078054           0.326630         0.022948            0.021961   \n",
       "77         0.113077           1.232567         0.022569            0.030057   \n",
       "106        2.402108           0.517590         0.020224            2.005207   \n",
       "113        0.129673           0.607281         0.020850            0.023965   \n",
       "128        0.093656           0.186224         0.040301            0.036615   \n",
       "\n",
       "             EC50     pEC50  Curve effect size  Regulation  \n",
       "37   1.081113e-08  7.966129          -0.633375   -1.000000  \n",
       "77   1.907749e-07  7.873396          -0.673425   -0.833333  \n",
       "106  2.000098e-03  6.252465           0.540893   -0.200000  \n",
       "113  1.983393e-08  8.059884          -0.060007   -0.125000  \n",
       "128  7.787948e-09  8.132247          -0.125451   -0.400000  \n",
       "\n",
       "[5 rows x 60 columns]"
      ]
     },
     "execution_count": 11,
     "metadata": {},
     "output_type": "execute_result"
    }
   ],
   "source": [
    "measurements = grouped_df[grouped_df['Gene names'].isin(collectri_tfs)]\n",
    "measurements.head()"
   ]
  },
  {
   "cell_type": "code",
   "execution_count": 12,
   "metadata": {},
   "outputs": [
    {
     "data": {
      "text/plain": [
       "[('ABLIM3', 8.038036722142818),\n",
       " ('ACACA', 7.919001347352594),\n",
       " ('ACIN1', 8.51245270397656),\n",
       " ('ADAM17', 8.088225031254964),\n",
       " ('ADAR', 8.209162778966169)]"
      ]
     },
     "execution_count": 12,
     "metadata": {},
     "output_type": "execute_result"
    }
   ],
   "source": [
    "ec50_values = grouped_df[~grouped_df['Gene names'].isin(collectri_tfs)]\n",
    "ec50_dict = dict(zip(grouped_df['Gene names'], grouped_df['pEC50']))\n",
    "list(ec50_dict.items())[:5]"
   ]
  },
  {
   "cell_type": "markdown",
   "metadata": {},
   "source": [
    "## 2. Network inference"
   ]
  },
  {
   "cell_type": "markdown",
   "metadata": {},
   "source": [
    "Afatinib is an EGFR inhibitor, therefore:"
   ]
  },
  {
   "cell_type": "code",
   "execution_count": 13,
   "metadata": {},
   "outputs": [],
   "source": [
    "source_dict = {'EGFR': -1}"
   ]
  },
  {
   "cell_type": "markdown",
   "metadata": {},
   "source": [
    "We get the top 30 most sensitive TFs."
   ]
  },
  {
   "cell_type": "code",
   "execution_count": 20,
   "metadata": {},
   "outputs": [],
   "source": [
    "measurements = measurements.sort_values('pEC50', ascending=False)\n",
    "measurements = measurements.head(30)"
   ]
  },
  {
   "cell_type": "code",
   "execution_count": 15,
   "metadata": {},
   "outputs": [],
   "source": [
    "target_dict = dict(zip(measurements['Gene names'], measurements['Regulation']))"
   ]
  },
  {
   "cell_type": "markdown",
   "metadata": {},
   "source": [
    "Now we compute the contextualised networks using four different topological methods: shortest paths and all paths, with and without sign consistency."
   ]
  },
  {
   "cell_type": "code",
   "execution_count": 16,
   "metadata": {},
   "outputs": [],
   "source": [
    "network_df = nc.data.network.get_omnipath()\n",
    "network = nc.utils.network_from_df(network_df)"
   ]
  },
  {
   "cell_type": "markdown",
   "metadata": {},
   "source": [
    "Now, we will perform network inference with some topology methods and CORNETO-Carnival."
   ]
  },
  {
   "cell_type": "markdown",
   "metadata": {},
   "source": [
    "<div class=\"alert alert-warning\">\n",
    "\n",
    "**Warning**\n",
    "    \n",
    "The following code block uses CORNETO, a package specialised in Integer Linear programming for network inference. Some CORNETO methods (such as Carnival) depend on GUROBI, a third-party solver that holds a commercial license. Therefore, in order to run this part of the code, you will have to install a license in your system. Please check their home page for more information. \n",
    "\n",
    "</div>"
   ]
  },
  {
   "cell_type": "code",
   "execution_count": null,
   "metadata": {},
   "outputs": [],
   "source": [
    "network_dict = {}\n",
    "\n",
    "network_dict['corneto_network'] = nc.methods.run_corneto_carnival(network, source_dict, target_dict, betaWeight=0.01, solver='GUROBI')\n",
    "network_dict['shortest_paths'], shortest_paths = nc.methods.run_shortest_paths(network, source_dict, target_dict)\n",
    "network_dict['shortest_paths_sc'], shortest_paths_sc = nc.methods.run_sign_consistency(network, shortest_paths, source_dict, target_dict)\n",
    "network_dict['all_paths'], all_paths = nc.methods.run_all_paths(network, source_dict, target_dict, depth_cutoff=5)\n",
    "network_dict['all_paths_sc'], all_paths_sc = nc.methods.run_sign_consistency(network, all_paths, source_dict, target_dict)"
   ]
  },
  {
   "cell_type": "markdown",
   "metadata": {},
   "source": [
    "## 3. Evaluation using sensitivity to perturbation"
   ]
  },
  {
   "cell_type": "markdown",
   "metadata": {},
   "source": [
    "Finally, we can assess whether these networks contain a differential share of highly sensitive nodes, which will be our evaluation metric. For more information, please check the [Evaluation strategies details page](../benchmarks.html#phosphorylation-sensitivity-to-drug-perturbation)."
   ]
  },
  {
   "cell_type": "code",
   "execution_count": 18,
   "metadata": {},
   "outputs": [],
   "source": [
    "ec50_eval_results = nc.eval.get_metric_from_networks(network_dict, nc.eval.get_ec50_evaluation, ec50_dict=ec50_dict)"
   ]
  },
  {
   "cell_type": "code",
   "execution_count": 19,
   "metadata": {},
   "outputs": [
    {
     "data": {
      "image/png": "[encoded data removed]",
      "text/plain": [
       "<Figure size 1000x600 with 1 Axes>"
      ]
     },
     "metadata": {},
     "output_type": "display_data"
    }
   ],
   "source": [
    "p = nc.visual.plot_scatter(\n",
    "    ec50_eval_results,\n",
    "    x_col='diff_EC50',  \n",
    "    y_col='coverage',\n",
    "    size_col=None,\n",
    "    hue_col='method',\n",
    "    numeric_cols=None,\n",
    "    style_col=None,\n",
    "    xlabel='Difference in average -log(EC50) scores',  \n",
    "    ylabel='Coverage',  \n",
    "    title='Coverage vs Difference in average sensitivity scores',  \n",
    "    figsize=(10, 6),  \n",
    ")  "
   ]
  },
  {
   "cell_type": "markdown",
   "metadata": {},
   "source": [
    "Both corneto and shortest paths + sign consistency had the highest difference between EC50 values of nodes included and excluded of the solution networks. In addition, the corneto network has almost double coverage than the rest of the networks. Therefore, we would consider the corneto network a better performer, taking both dimensions into account."
   ]
  },
  {
   "cell_type": "markdown",
   "metadata": {},
   "source": [
    "That was it! Here, we used phosphoproteomics to infer mechanistic explanations of sensitivity changes in transcription factors, and then we used the same sensitivity information to evaluate the different methodologies. In our next vignette, we will explore the usage of multiomics in another evaluation setting. Bye!"
   ]
  }
 ],
 "metadata": {
  "kernelspec": {
   "display_name": "networkcommons-DX9y6Uxu-py3.10",
   "language": "python",
   "name": "python3"
  },
  "language_info": {
   "codemirror_mode": {
    "name": "ipython",
    "version": 3
   },
   "file_extension": ".py",
   "mimetype": "text/x-python",
   "name": "python",
   "nbconvert_exporter": "python",
   "pygments_lexer": "ipython3",
   "version": "3.10.12"
  }
 },
 "nbformat": 4,
 "nbformat_minor": 2
}
