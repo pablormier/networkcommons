{
 "cells": [
  {
   "cell_type": "markdown",
   "metadata": {},
   "source": [
    "# Vignette 3: Evaluating methods under two scenarios: offtarget recovery and pathway activity"
   ]
  },
  {
   "cell_type": "markdown",
   "metadata": {},
   "source": [
    "#TODO: Rename vignette and narrative to match the order of presented evaluations. It is swapped (Pathway -> Offtarget)"
   ]
  },
  {
   "cell_type": "markdown",
   "metadata": {},
   "source": [
    "Welcome to our third vignette! Here we assume you already know the basics of `Networkcommons`. If you don't, please check our [first vignette](1_quickstart.html), where we contextualise a simple network, and our [second vignette](2_multiple_methods.html), where we apply different methods to a problem and visualise the different solution networks."
   ]
  },
  {
   "cell_type": "markdown",
   "metadata": {},
   "source": [
    "In this vignette, we will start exploring how we can evaluate the different methods used for network contextualisation. As already hinted at the end of the second vignette, it is not trivial how to decide which method performs better. In `Networkcommons`, we have included four strategies to do so, whose details can be found in this [section](../benchmarks.html). \n",
    "\n",
    "Here, we will showcase two of them: [offtarget recovery](../benchmarks.html#offtarget-recovery) and [pathway enrichment analysis](../benchmarks.html#pathway-enrichment-analysis). In the first one, we aim to recover as many drug offtargets as possible, while in the latter setting, the components of a perturbed pathway should be overrepresented in the solution networks."
   ]
  },
  {
   "cell_type": "code",
   "execution_count": 27,
   "metadata": {},
   "outputs": [],
   "source": [
    "import networkcommons as nc\n",
    "import pandas as pd\n",
    "import decoupler as dc"
   ]
  },
  {
   "cell_type": "markdown",
   "metadata": {},
   "source": [
    "## 1. Loading preprocessed transcriptomics data"
   ]
  },
  {
   "cell_type": "markdown",
   "metadata": {},
   "source": [
    "Like in the previous vignettes, we will use a specific contrast from the [PANACEA](../datasets.html#panacea) (Afatinib versus DMSO in ASPC cell line) to extract the transcription factors that are dysregulated in this scenario. We will skip the explanation of the data processing, but it can be found in the [PANACEA data section](../datasets.html#panacea). Here, we will use H1793 cells treated with neratinib (an EGFR inhibitor) vs DMSO as control."
   ]
  },
  {
   "cell_type": "markdown",
   "metadata": {},
   "source": [
    "#TODO: In this section, one could show different EGFR inhibitor drugs (maybe 2-3 EGFR inhibotrs) a cell line known to have active EGFR, such as NCI-H1793 (lung adenocarcinoma, where EGFR is highly important, not sure it carries a hyper activating mutation but from context is easier to link)."
   ]
  },
  {
   "cell_type": "code",
   "execution_count": 20,
   "metadata": {},
   "outputs": [],
   "source": [
    "# downstream layer\n",
    "dc_estimates = nc.data.omics.panacea_tables(cell_line='H1793', drug='NERATINIB', type='TF_scores')\n",
    "dc_estimates.set_index('items', inplace=True)\n",
    "measurements = nc.utils.targetlayer_formatter(dc_estimates, act_col='act')\n",
    "\n",
    "# upstream layer\n",
    "source_df = pd.DataFrame({'source': ['EGFR'], \n",
    "                          'sign': [-1]}, columns=['source', 'sign'])\n",
    "source_df.set_index('source', inplace=True)\n",
    "sources = source_df['sign'].to_dict()"
   ]
  },
  {
   "cell_type": "markdown",
   "metadata": {},
   "source": [
    "## 2. Network inference"
   ]
  },
  {
   "cell_type": "markdown",
   "metadata": {},
   "source": [
    "Now we have our sources and targets, we will import the PKN from OmniPath:"
   ]
  },
  {
   "cell_type": "code",
   "execution_count": 21,
   "metadata": {},
   "outputs": [],
   "source": [
    "network = nc.data.network.get_omnipath()\n",
    "graph = nc.utils.network_from_df(network)"
   ]
  },
  {
   "cell_type": "markdown",
   "metadata": {},
   "source": [
    "Now, we will contextualise different subnetworks using different methods."
   ]
  },
  {
   "cell_type": "code",
   "execution_count": 24,
   "metadata": {},
   "outputs": [
    {
     "name": "stdout",
     "output_type": "stream",
     "text": [
      "(CORNETO) Sep 06 02:42:06 PM - INFO    : 1/1 inputs mapped to the graph\n",
      "(CORNETO) Sep 06 02:42:06 PM - INFO    : 17/25 outputs mapped to the graph\n",
      "(CORNETO) Sep 06 02:42:06 PM - INFO    : Pruning the graph with size: V x E = (4946, 13172)...\n",
      "(CORNETO) Sep 06 02:42:06 PM - INFO    : Finished. Final size: V x E = (1188, 5786).\n",
      "(CORNETO) Sep 06 02:42:06 PM - INFO    : 1/1 inputs after pruning.\n",
      "(CORNETO) Sep 06 02:42:06 PM - INFO    : 12/17 outputs after pruning.\n",
      "(CORNETO) Sep 06 02:42:06 PM - INFO    : Converting into a flow graph...\n",
      "(CORNETO) Sep 06 02:42:06 PM - INFO    : Creating a network flow problem...\n",
      "(CORNETO) Sep 06 02:42:07 PM - INFO    : Preprocess completed.\n",
      "===============================================================================\n",
      "                                     CVXPY                                     \n",
      "                                     v1.5.2                                    \n",
      "===============================================================================\n",
      "(CVXPY) Sep 06 02:42:07 PM: Your problem has 26879 variables, 65436 constraints, and 0 parameters.\n",
      "(CVXPY) Sep 06 02:42:07 PM: It is compliant with the following grammars: DCP, DQCP\n",
      "(CVXPY) Sep 06 02:42:07 PM: (If you need to solve this problem multiple times, but with different data, consider using parameters.)\n",
      "(CVXPY) Sep 06 02:42:07 PM: CVXPY will first compile your problem; then, it will invoke a numerical solver to obtain a solution.\n",
      "(CVXPY) Sep 06 02:42:07 PM: Your problem is compiled with the CPP canonicalization backend.\n",
      "-------------------------------------------------------------------------------\n",
      "                                  Compilation                                  \n",
      "-------------------------------------------------------------------------------\n",
      "(CVXPY) Sep 06 02:42:07 PM: Compiling problem (target solver=GUROBI).\n",
      "(CVXPY) Sep 06 02:42:07 PM: Reduction chain: CvxAttr2Constr -> Qp2SymbolicQp -> QpMatrixStuffing -> GUROBI\n",
      "(CVXPY) Sep 06 02:42:07 PM: Applying reduction CvxAttr2Constr\n",
      "(CVXPY) Sep 06 02:42:07 PM: Applying reduction Qp2SymbolicQp\n",
      "(CVXPY) Sep 06 02:42:07 PM: Applying reduction QpMatrixStuffing\n",
      "(CVXPY) Sep 06 02:42:07 PM: Applying reduction GUROBI\n",
      "(CVXPY) Sep 06 02:42:07 PM: Finished problem compilation (took 4.024e-01 seconds).\n",
      "-------------------------------------------------------------------------------\n",
      "                                Numerical solver                               \n",
      "-------------------------------------------------------------------------------\n",
      "(CVXPY) Sep 06 02:42:07 PM: Invoking solver GUROBI  to obtain a solution.\n",
      "Set parameter Username\n",
      "Academic license - for non-commercial use only - expires 2025-09-06\n",
      "Set parameter QCPDual to value 1\n",
      "Gurobi Optimizer version 11.0.3 build v11.0.3rc0 (linux64 - \"Ubuntu 22.04.1 LTS\")\n",
      "\n",
      "CPU model: 11th Gen Intel(R) Core(TM) i7-1165G7 @ 2.80GHz, instruction set [SSE2|AVX|AVX2|AVX512]\n",
      "Thread count: 4 physical cores, 8 logical processors, using up to 8 threads\n",
      "\n",
      "Optimize a model with 65436 rows, 26879 columns and 152735 nonzeros\n",
      "Model fingerprint: 0xf5d2afc2\n",
      "Variable types: 7021 continuous, 19858 integer (19858 binary)\n",
      "Coefficient statistics:\n",
      "  Matrix range     [1e-03, 1e+03]\n",
      "  Objective range  [1e-02, 1e+00]\n",
      "  Bounds range     [1e+00, 1e+00]\n",
      "  RHS range        [1e-03, 1e+03]\n",
      "Presolve removed 29135 rows and 2369 columns\n",
      "Presolve time: 0.34s\n",
      "Presolved: 36301 rows, 24510 columns, 108489 nonzeros\n",
      "Variable types: 6590 continuous, 17920 integer (17920 binary)\n",
      "Deterministic concurrent LP optimizer: primal and dual simplex\n",
      "Showing primal log only...\n",
      "\n",
      "Concurrent spin time: 0.02s\n",
      "\n",
      "Solved with dual simplex\n",
      "Extra simplex iterations after uncrush: 4\n",
      "\n",
      "Root relaxation: objective -1.266381e+01, 2081 iterations, 0.26 seconds (0.25 work units)\n",
      "\n",
      "    Nodes    |    Current Node    |     Objective Bounds      |     Work\n",
      " Expl Unexpl |  Obj  Depth IntInf | Incumbent    BestBd   Gap | It/Node Time\n",
      "\n",
      "     0     0  -12.66381    0  103          -  -12.66381      -     -    1s\n",
      "H    0     0                      -0.9700000  -12.66381  1206%     -    1s\n",
      "H    0     0                      -1.8700000  -12.66381   577%     -    1s\n",
      "H    0     0                      -1.9100000  -12.66381   563%     -    1s\n",
      "     0     0  -12.65750    0  135   -1.91000  -12.65750   563%     -    1s\n",
      "     0     0  -12.65000    0  174   -1.91000  -12.65000   562%     -    2s\n",
      "     0     0  -12.65000    0  172   -1.91000  -12.65000   562%     -    2s\n",
      "     0     0  -12.65000    0  206   -1.91000  -12.65000   562%     -    3s\n",
      "     0     0  -12.65000    0   34   -1.91000  -12.65000   562%     -    5s\n",
      "     0     0  -12.65000    0   34   -1.91000  -12.65000   562%     -    6s\n",
      "H    0     0                     -12.6200000  -12.65000  0.24%     -    8s\n",
      "     0     0  -12.65000    0   46  -12.62000  -12.65000  0.24%     -    8s\n",
      "     0     0  -12.65000    0   46  -12.62000  -12.65000  0.24%     -    9s\n",
      "     0     0  -12.65000    0   52  -12.62000  -12.65000  0.24%     -    9s\n",
      "     0     0  -12.65000    0   49  -12.62000  -12.65000  0.24%     -   10s\n",
      "     0     0  -12.65000    0   90  -12.62000  -12.65000  0.24%     -   11s\n",
      "     0     0  -12.65000    0   90  -12.62000  -12.65000  0.24%     -   11s\n",
      "     0     0  -12.65000    0   26  -12.62000  -12.65000  0.24%     -   13s\n",
      "     0     0  -12.65000    0   25  -12.62000  -12.65000  0.24%     -   13s\n",
      "     0     0  -12.65000    0   19  -12.62000  -12.65000  0.24%     -   14s\n",
      "H    0     0                     -12.6300000  -12.65000  0.16%     -   14s\n",
      "     0     0  -12.65000    0   19  -12.63000  -12.65000  0.16%     -   15s\n",
      "     0     0  -12.65000    0   19  -12.63000  -12.65000  0.16%     -   15s\n",
      "     0     2  -12.65000    0   19  -12.63000  -12.65000  0.16%     -   17s\n",
      "    40    20  -12.65000   11   52  -12.63000  -12.65000  0.16%   184   20s\n",
      "   212    76  -12.64999   28   27  -12.63000  -12.65000  0.16%  62.5   25s\n",
      "   421   116  -12.65000    5  157  -12.63000  -12.65000  0.16%  45.5   30s\n",
      "   543   158  -12.65000   15   69  -12.63000  -12.65000  0.16%  56.1   35s\n",
      "   783   241  -12.64996   34   65  -12.63000  -12.65000  0.16%  50.5   41s\n",
      "H  785   219                     -12.6400000  -12.65000  0.08%  50.5   41s\n",
      "   801    36  -12.65000   17   10  -12.64000  -12.65000  0.08%  49.9   45s\n",
      "\n",
      "Cutting planes:\n",
      "  Gomory: 9\n",
      "  Implied bound: 13\n",
      "  Clique: 2\n",
      "  MIR: 6\n",
      "  Flow cover: 12\n",
      "  Zero half: 18\n",
      "  RLT: 2\n",
      "\n",
      "Explored 806 nodes (103630 simplex iterations) in 47.95 seconds (37.06 work units)\n",
      "Thread count was 8 (of 8 available processors)\n",
      "\n",
      "Solution count 8: -12.64 -12.64 -12.63 ... -0.97\n",
      "No other solutions better than -12.64\n",
      "\n",
      "Optimal solution found (tolerance 1.00e-04)\n",
      "Best objective -1.264000000000e+01, best bound -1.264000000000e+01, gap 0.0000%\n",
      "-------------------------------------------------------------------------------\n",
      "                                    Summary                                    \n",
      "-------------------------------------------------------------------------------\n",
      "(CVXPY) Sep 06 02:42:55 PM: Problem status: optimal\n",
      "(CVXPY) Sep 06 02:42:55 PM: Optimal value: 1.336e+01\n",
      "(CVXPY) Sep 06 02:42:55 PM: Compilation took 4.024e-01 seconds\n",
      "(CVXPY) Sep 06 02:42:55 PM: Solver (including time spent in interface) took 4.824e+01 seconds\n",
      "(CORNETO) Sep 06 02:42:55 PM - INFO    : Finished in 49.56 s.\n"
     ]
    }
   ],
   "source": [
    "# topological methods\n",
    "shortest_path_network, shortest_paths_list = nc.methods.run_shortest_paths(graph, sources, measurements)\n",
    "shortest_sc_network, shortest_sc_list = nc.methods.run_sign_consistency(shortest_path_network, shortest_paths_list, sources, measurements)\n",
    "all_paths_network, all_paths_list = nc.methods.run_all_paths(graph, sources, measurements, depth_cutoff=3)\n",
    "allpaths_sc_network, allpaths_sc_list = nc.methods.run_sign_consistency(all_paths_network, all_paths_list, sources, measurements)\n",
    "\n",
    "\n",
    "# diffusion-like methods\n",
    "ppr_network = nc.methods.add_pagerank_scores(graph, sources, measurements, personalize_for='source')\n",
    "ppr_network = nc.methods.add_pagerank_scores(ppr_network, sources, measurements, personalize_for='target')\n",
    "ppr_network = nc.methods.compute_ppr_overlap(ppr_network, percentage=1)\n",
    "shortest_ppr_network, shortest_ppr_list = nc.methods.run_shortest_paths(ppr_network, sources, measurements)\n",
    "shortest_sc_ppr_network, shortest_sc_ppr_list = nc.methods.run_sign_consistency(shortest_ppr_network, shortest_ppr_list, sources, measurements)\n",
    "\n",
    "# ILP-based\n",
    "corneto_network = nc.methods.run_corneto_carnival(graph, sources, measurements, betaWeight=0.01, solver='GUROBI')\n",
    "#TODO: Remove LOGs"
   ]
  },
  {
   "cell_type": "markdown",
   "metadata": {},
   "source": [
    "We will now store the networks in a dictionary to ease handling. "
   ]
  },
  {
   "cell_type": "code",
   "execution_count": 25,
   "metadata": {},
   "outputs": [],
   "source": [
    "# we include all the networks in a dictionary with custom labels\n",
    "networks = {\n",
    "    'shortest_path': shortest_path_network,\n",
    "    'shortest_path_sc': shortest_sc_network,\n",
    "    'all_paths': all_paths_network,\n",
    "    'all_paths_sc': allpaths_sc_network,\n",
    "    'shortest_ppr_network': shortest_ppr_network,\n",
    "    'shortest_ppr_sc_network': shortest_sc_ppr_network,\n",
    "    'corneto': corneto_network\n",
    "}"
   ]
  },
  {
   "cell_type": "markdown",
   "metadata": {},
   "source": [
    "## 3. Evaluation strategy using pathway enrichment analysis"
   ]
  },
  {
   "cell_type": "markdown",
   "metadata": {},
   "source": [
    "Now, we are ready to start the evaluation of the networks. We will follow here a very intuitive approach: if a network contextualises properly a given perturbation, a large share of members of the perturbed pathway will appear in the solution network. Therefore, we will perform Overrepresentation analysis between the members of these networks, and a gene set from [Biocarta](https://www.gsea-msigdb.org/gsea/msigdb/cards/BIOCARTA_EGF_PATHWAY) containing the members of the EGF canonical pathway, in addition to an alternative pathway involving SMRT inhibition by the Tyrosine-Kinase signalling pathway. If the network contextualises properly, the affected pathway(s) will have a higher ORA score (they will be ranked higher than other pathways). You can find more details about this strategy in the [Evaluation strategies details page](../benchmarks.html#pathway-enrichment-analysis)."
   ]
  },
  {
   "cell_type": "markdown",
   "metadata": {},
   "source": [
    "First, we neet the pathway signatures from BioCarta, which are available in the MSigDB database."
   ]
  },
  {
   "cell_type": "code",
   "execution_count": null,
   "metadata": {},
   "outputs": [],
   "source": [
    "signatures = dc.get_resource('MSigDB', organism='human')\n",
    "biocarta_elements = signatures[signatures['collection'] == 'biocarta_pathways']\n",
    "biocarta_elements.rename(columns={'geneset': 'source', 'genesymbol': 'target'}, inplace=True)\n",
    "biocarta_elements.drop_duplicates(inplace=True)"
   ]
  },
  {
   "cell_type": "code",
   "execution_count": 29,
   "metadata": {},
   "outputs": [],
   "source": [
    "ora_results = nc.eval.get_metric_from_networks(networks, nc.eval.run_ora, net=biocarta_elements)"
   ]
  },
  {
   "cell_type": "code",
   "execution_count": 45,
   "metadata": {},
   "outputs": [
    {
     "data": {
      "image/png": "[encoded data removed]",
      "text/plain": [
       "<Figure size 700x400 with 1 Axes>"
      ]
     },
     "metadata": {},
     "output_type": "display_data"
    },
    {
     "data": {
      "text/plain": [
       "<Figure size 640x480 with 0 Axes>"
      ]
     },
     "execution_count": 45,
     "metadata": {},
     "output_type": "execute_result"
    },
    {
     "data": {
      "text/plain": [
       "<Figure size 640x480 with 0 Axes>"
      ]
     },
     "metadata": {},
     "output_type": "display_data"
    }
   ],
   "source": [
    "nc.visual.create_rank_heatmap(ora_results, ['BIOCARTA_EGF_PATHWAY', 'BIOCARTA_EGFR_SMRTE_PATHWAY'], render=True)"
   ]
  },
  {
   "cell_type": "markdown",
   "metadata": {},
   "source": [
    "#TODO: Include some guide to interpret the results. Also some details about why only these 2 pathways (you can justify that these 2 were the expected pathways to be found).Scores for EGFR_SMRTE are actually low, you could add other 3 non-related pathways as negative controls.\n",
    "\n",
    "Almost all methods correctly identified the perturbed pathway. Shortest paths performed best, while ILP-based corneto performed worst under this assumption. "
   ]
  },
  {
   "cell_type": "markdown",
   "metadata": {},
   "source": [
    "## 4. Evaluation strategy using offtarget recovery"
   ]
  },
  {
   "cell_type": "markdown",
   "metadata": {},
   "source": [
    "A second evaluation strategy we can use is based on the recovery of offtarget(s) in the solution networks. Here, we assume that the measurements we use as downstream values are a product not only of the perturbation of the primary drug target, but also of the perturbation of one or more offtarget nodes. Therefore, a network that can accurately contextualise these effects, will have a higher share of offtargets among the subnetwork nodes. You can find more details about this setting in the [Evaluation strategies details page](../benchmarks.html#offtarget-recovery)."
   ]
  },
  {
   "cell_type": "markdown",
   "metadata": {},
   "source": [
    "#TODO: If feasible, this analysis should be performed for all drugs, cell lines and methods and present results ina systematic fashion (as done in the master thesis.)"
   ]
  },
  {
   "cell_type": "markdown",
   "metadata": {},
   "source": [
    "In this specific case, we want to evaluate whether the networks contain the offtarget MAPKAPK2, as contained in the PANACEA gold standard."
   ]
  },
  {
   "cell_type": "code",
   "execution_count": 39,
   "metadata": {},
   "outputs": [],
   "source": [
    "panacea_gold_standard = nc.data.omics.panacea_gold_standard()\n",
    "neratinib_offtargets = panacea_gold_standard[(panacea_gold_standard['cmpd'] == 'NERATINIB') & (~panacea_gold_standard['target'].isin(sources.keys()))].target.tolist()"
   ]
  },
  {
   "cell_type": "code",
   "execution_count": 40,
   "metadata": {},
   "outputs": [],
   "source": [
    "offtarget_res = nc.eval.get_metric_from_networks(networks, nc.eval.get_recovered_offtargets, offtargets=neratinib_offtargets)"
   ]
  },
  {
   "cell_type": "code",
   "execution_count": 43,
   "metadata": {},
   "outputs": [
    {
     "data": {
      "text/html": [
       "<div>\n",
       "<style scoped>\n",
       "    .dataframe tbody tr th:only-of-type {\n",
       "        vertical-align: middle;\n",
       "    }\n",
       "\n",
       "    .dataframe tbody tr th {\n",
       "        vertical-align: top;\n",
       "    }\n",
       "\n",
       "    .dataframe thead th {\n",
       "        text-align: right;\n",
       "    }\n",
       "</style>\n",
       "<table border=\"1\" class=\"dataframe\">\n",
       "  <thead>\n",
       "    <tr style=\"text-align: right;\">\n",
       "      <th></th>\n",
       "      <th>n_offtargets</th>\n",
       "      <th>perc_offtargets</th>\n",
       "      <th>network</th>\n",
       "      <th>type</th>\n",
       "      <th>method</th>\n",
       "    </tr>\n",
       "  </thead>\n",
       "  <tbody>\n",
       "    <tr>\n",
       "      <th>0</th>\n",
       "      <td>0</td>\n",
       "      <td>0.0</td>\n",
       "      <td>shortest_path</td>\n",
       "      <td>real</td>\n",
       "      <td>shortest_path</td>\n",
       "    </tr>\n",
       "    <tr>\n",
       "      <th>1</th>\n",
       "      <td>0</td>\n",
       "      <td>0.0</td>\n",
       "      <td>shortest_path_sc</td>\n",
       "      <td>real</td>\n",
       "      <td>shortest_path_sc</td>\n",
       "    </tr>\n",
       "    <tr>\n",
       "      <th>2</th>\n",
       "      <td>0</td>\n",
       "      <td>0.0</td>\n",
       "      <td>all_paths</td>\n",
       "      <td>real</td>\n",
       "      <td>all_paths</td>\n",
       "    </tr>\n",
       "    <tr>\n",
       "      <th>3</th>\n",
       "      <td>0</td>\n",
       "      <td>0.0</td>\n",
       "      <td>all_paths_sc</td>\n",
       "      <td>real</td>\n",
       "      <td>all_paths_sc</td>\n",
       "    </tr>\n",
       "    <tr>\n",
       "      <th>4</th>\n",
       "      <td>0</td>\n",
       "      <td>0.0</td>\n",
       "      <td>shortest_ppr_network</td>\n",
       "      <td>real</td>\n",
       "      <td>shortest_ppr_network</td>\n",
       "    </tr>\n",
       "    <tr>\n",
       "      <th>5</th>\n",
       "      <td>0</td>\n",
       "      <td>0.0</td>\n",
       "      <td>shortest_ppr_sc_network</td>\n",
       "      <td>real</td>\n",
       "      <td>shortest_ppr_sc_network</td>\n",
       "    </tr>\n",
       "    <tr>\n",
       "      <th>6</th>\n",
       "      <td>0</td>\n",
       "      <td>0.0</td>\n",
       "      <td>corneto</td>\n",
       "      <td>real</td>\n",
       "      <td>corneto</td>\n",
       "    </tr>\n",
       "  </tbody>\n",
       "</table>\n",
       "</div>"
      ],
      "text/plain": [
       "   n_offtargets  perc_offtargets                  network  type  \\\n",
       "0             0              0.0            shortest_path  real   \n",
       "1             0              0.0         shortest_path_sc  real   \n",
       "2             0              0.0                all_paths  real   \n",
       "3             0              0.0             all_paths_sc  real   \n",
       "4             0              0.0     shortest_ppr_network  real   \n",
       "5             0              0.0  shortest_ppr_sc_network  real   \n",
       "6             0              0.0                  corneto  real   \n",
       "\n",
       "                    method  \n",
       "0            shortest_path  \n",
       "1         shortest_path_sc  \n",
       "2                all_paths  \n",
       "3             all_paths_sc  \n",
       "4     shortest_ppr_network  \n",
       "5  shortest_ppr_sc_network  \n",
       "6                  corneto  "
      ]
     },
     "execution_count": 43,
     "metadata": {},
     "output_type": "execute_result"
    }
   ],
   "source": [
    "offtarget_res"
   ]
  },
  {
   "cell_type": "markdown",
   "metadata": {},
   "source": [
    "Unfortunately, none of them managed to recover this effect. This might be due to several reasons, but the main limitation is that only offtargets that are reachable from the source node can be considered. Everything not reachable from the source cannot be part of a solution network. In addition, having only one offtarget greatly reduces the statistical power to draw conclusions here (is this one offtarget missing just per chance, or is there a mechanistic explanation behind?). While this approach can be useful in some situations, it is equally important to assess whether the results might be biased or not in every case."
   ]
  },
  {
   "cell_type": "markdown",
   "metadata": {},
   "source": [
    "And that was it for now! We hope you found this tutorial helpful. We focused here on strategies to evaluate the networks, showcasing two of them.\n",
    "However, this is just the beginning! We aim to expand this collection of tools and methods by incorporating more data sources, methods, evaluation strategies and visualizations.\n",
    "\n",
    "If you have any questions or feedback, or you would like to contribute, please reach out!. In addition, check our Contribution guidelines for [Data](../guidelines/guide_1_data.html), [Methods](../guidelines/guide_2_methods.html) and [Evaluation strategies](../guidelines/guide_3_eval.html)."
   ]
  },
  {
   "cell_type": "markdown",
   "metadata": {},
   "source": [
    "#TODO: I like the interpretation and the ending, but lets wait for the all-drugs/cells analyses to rewrite."
   ]
  },
  {
   "cell_type": "code",
   "execution_count": null,
   "metadata": {},
   "outputs": [],
   "source": []
  }
 ],
 "metadata": {
  "kernelspec": {
   "display_name": "networkcommons-DX9y6Uxu-py3.10",
   "language": "python",
   "name": "python3"
  },
  "language_info": {
   "codemirror_mode": {
    "name": "ipython",
    "version": 3
   },
   "file_extension": ".py",
   "mimetype": "text/x-python",
   "name": "python",
   "nbconvert_exporter": "python",
   "pygments_lexer": "ipython3",
   "version": "3.10.12"
  }
 },
 "nbformat": 4,
 "nbformat_minor": 2
}
